{
  "nbformat": 4,
  "nbformat_minor": 0,
  "metadata": {
    "colab": {
      "name": "AI_ML_HW_6.ipynb",
      "provenance": [],
      "authorship_tag": "ABX9TyMR6ZDRBugH74QbvH4L0XSp",
      "include_colab_link": true
    },
    "kernelspec": {
      "name": "python3",
      "display_name": "Python 3"
    },
    "language_info": {
      "name": "python"
    }
  },
  "cells": [
    {
      "cell_type": "markdown",
      "metadata": {
        "id": "view-in-github",
        "colab_type": "text"
      },
      "source": [
        "<a href=\"https://colab.research.google.com/github/Aditigv/ML/blob/main/AI_ML_HW_6.ipynb\" target=\"_parent\"><img src=\"https://colab.research.google.com/assets/colab-badge.svg\" alt=\"Open In Colab\"/></a>"
      ]
    },
    {
      "cell_type": "code",
      "source": [
        "!pip install hmmlearn\n",
        "print('\\n_________________________________________________________________________\\n')\n",
        "\"\"\"\n",
        "    Given observations, find hidden state sequence by viterbi algorithm\n",
        "\"\"\"\n",
        "import numpy as np\n",
        "from hmmlearn import hmm\n",
        "\n",
        "label = [\"B1\", \"B2\", \"B3\"]\n",
        "n_label = len(label)   # =3\n",
        "\n",
        "color = [\"red\", \"green\",\"yellow\"]\n",
        "n_color = len(color)\n",
        "\n",
        "initial_probability = np.array([0.4, 0.35, 0.25])\n",
        "\n",
        "trans = np.array([\n",
        "  [0.3, 0.2, 0.5],\n",
        "  [0.1, 0.3, 0.6],\n",
        "  [0.7, 0.25, 0.05]\n",
        "])\n",
        "\n",
        "emission = np.array([\n",
        "  [0.8, 0.1, 0.1],\n",
        "  [0.2, 0.4, 0.4],\n",
        "  [0.15, 0.25, 0.6]\n",
        "])\n",
        "print('\\nTraining the Hidden Markov Model...\\n')\n",
        "model = hmm.MultinomialHMM(n_components=n_label) \n",
        "# MultinomialHMM: observation distribution in Multinomial\n",
        "model.startprob_=initial_probability\n",
        "model.transmat_=trans\n",
        "model.emissionprob_=emission\n",
        "\n",
        "seen = np.array([[0,0,2,1,2]]).T        # 0: red;     1: white   => r w r\n",
        "logprob, box = model.decode(seen, algorithm=\"viterbi\")\n",
        "seen = [0,0,2,1,2]\n",
        "\n",
        "\"\"\"\n",
        "    Or find label sequence by \"predict\" function \n",
        "\"\"\"\n",
        "seen = np.array([[0,0,2,1,2]]).T \n",
        "box2 = model.predict(seen)      # same as \"viterbi\"\n",
        "seen = [0,0,2,1,2]\n",
        "print('\\n_________________________________________________________________________\\n')\n",
        "print(\"The color sequence given is:\", \", \".join(map(lambda x: color[x], seen)))\n",
        "print('\\n_________________________________________________________________________\\n')\n",
        "print(\"The labelled bottle sequence it is coming from :\", \", \".join(map(lambda x: label[x], box2)))\n",
        "\n",
        "\"\"\"\n",
        "    Find probability of color sequence\n",
        "\"\"\"\n",
        "seen = np.array([[0,0,2,1,2]]).T                 # P(rrygy) = ?\n",
        "print('\\n_________________________________________________________________________\\n')\n",
        "print(\"Probability of color sequence P(rrygy)= \",model.score(seen))     \n",
        "   # ln(P(red*red*yellow*green*yellow)) = -5.342304036552551   \n",
        "   # P(rrygy) = exp(-5.342304036552551)"
      ],
      "metadata": {
        "colab": {
          "base_uri": "https://localhost:8080/"
        },
        "id": "D4-MlkNMg64L",
        "outputId": "9c76f330-5454-4c4c-9599-de78bcd27aef"
      },
      "execution_count": 8,
      "outputs": [
        {
          "output_type": "stream",
          "name": "stdout",
          "text": [
            "Looking in indexes: https://pypi.org/simple, https://us-python.pkg.dev/colab-wheels/public/simple/\n",
            "Requirement already satisfied: hmmlearn in /usr/local/lib/python3.7/dist-packages (0.2.7)\n",
            "Requirement already satisfied: scipy>=0.19 in /usr/local/lib/python3.7/dist-packages (from hmmlearn) (1.7.3)\n",
            "Requirement already satisfied: scikit-learn>=0.16 in /usr/local/lib/python3.7/dist-packages (from hmmlearn) (1.0.2)\n",
            "Requirement already satisfied: numpy>=1.10 in /usr/local/lib/python3.7/dist-packages (from hmmlearn) (1.21.6)\n",
            "Requirement already satisfied: threadpoolctl>=2.0.0 in /usr/local/lib/python3.7/dist-packages (from scikit-learn>=0.16->hmmlearn) (3.1.0)\n",
            "Requirement already satisfied: joblib>=0.11 in /usr/local/lib/python3.7/dist-packages (from scikit-learn>=0.16->hmmlearn) (1.1.0)\n",
            "\n",
            "_________________________________________________________________________\n",
            "\n",
            "\n",
            "Training the Hidden Markov Model...\n",
            "\n",
            "\n",
            "_________________________________________________________________________\n",
            "\n",
            "The color sequence given is: red, red, yellow, green, yellow\n",
            "\n",
            "_________________________________________________________________________\n",
            "\n",
            "The labelled bottle sequence it is coming from : B1, B1, B3, B2, B3\n",
            "\n",
            "_________________________________________________________________________\n",
            "\n",
            "Probability of color sequence P(rrygy)=  -5.342304036552551\n"
          ]
        }
      ]
    }
  ]
}