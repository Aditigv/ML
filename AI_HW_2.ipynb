{
  "nbformat": 4,
  "nbformat_minor": 0,
  "metadata": {
    "colab": {
      "name": "AI_HW_2.ipynb",
      "provenance": [],
      "collapsed_sections": [],
      "authorship_tag": "ABX9TyNIgEsD3dCFaZgSec5BbYlP",
      "include_colab_link": true
    },
    "kernelspec": {
      "name": "python3",
      "display_name": "Python 3"
    },
    "language_info": {
      "name": "python"
    }
  },
  "cells": [
    {
      "cell_type": "markdown",
      "metadata": {
        "id": "view-in-github",
        "colab_type": "text"
      },
      "source": [
        "<a href=\"https://colab.research.google.com/github/Aditigv/ML/blob/main/AI_HW_2.ipynb\" target=\"_parent\"><img src=\"https://colab.research.google.com/assets/colab-badge.svg\" alt=\"Open In Colab\"/></a>"
      ]
    },
    {
      "cell_type": "markdown",
      "source": [
        "1. From the following dataset with one feature X, please write python program to implement linear regression in Normal Equation to find θ_0  and θ_1. After that, plot (X,Y) points and fitting curve in excel or matplotlib python function\n",
        "\n",
        " \n",
        "![image.png](data:image/png;base64,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)"
      ],
      "metadata": {
        "id": "T9UWYXxIyvCM"
      }
    },
    {
      "cell_type": "code",
      "source": [
        "import numpy as np\n",
        "data = np.array([[1,3],[3,3],[5,7],[7,7],[9,11],[11,11],[13,15],[15,15],[17,19],[19,19]])\n",
        "x_, y_= data[:,:1], data[:, 1]\n",
        "# matrix x\n",
        "M = 10   #length of data set\n",
        "x_bias = np.ones((M,1))\n",
        "x = np.reshape(x_, (M,1))\n",
        "x = np.append(x_bias,x,axis=1)\n",
        "#(xTx)^(-1)\n",
        "x_transpose = np.transpose(x)   #calculating transpose\n",
        "product = x_transpose.dot(x)    #multiplying normal and transposed matrix\n",
        "temp1 = np.linalg.inv(product)  #calculating inverse of product\n",
        "#xT * y\n",
        "temp2 = x_transpose.dot(y_)\n",
        "#theta = (xTx)^(-1) * xT * y\n",
        "theta = temp1.dot(temp2)\n",
        "print(\"theta0 = \"\"\", theta[0])\n",
        "print(\"theta1 =\"\" \", theta[1])\n",
        "# y = t0 + t1x\n",
        "print(\"Now comparing with plot.........\")\n",
        "\n",
        "import matplotlib.pyplot as plt \n",
        "plt.scatter(x_,y_)\n",
        "plt.plot(x, theta[0] + theta[1]*x)"
      ],
      "metadata": {
        "colab": {
          "base_uri": "https://localhost:8080/",
          "height": 352
        },
        "id": "TMct4GME0MF0",
        "outputId": "0327dcc7-7806-4c05-f281-5be41f485b7b"
      },
      "execution_count": null,
      "outputs": [
        {
          "output_type": "stream",
          "name": "stdout",
          "text": [
            "theta0 =  1.3030303030302974\n",
            "theta1 =  0.9696969696969702\n",
            "Now comparing with plot.........\n"
          ]
        },
        {
          "output_type": "execute_result",
          "data": {
            "text/plain": [
              "[<matplotlib.lines.Line2D at 0x7fd4fe8c3650>,\n",
              " <matplotlib.lines.Line2D at 0x7fd4fe8c7e90>]"
            ]
          },
          "metadata": {},
          "execution_count": 21
        },
        {
          "output_type": "display_data",
          "data": {
            "text/plain": [
              "<Figure size 432x288 with 1 Axes>"
            ],
            "image/png": "[encoded data removed]"
          },
          "metadata": {
            "needs_background": "light"
          }
        }
      ]
    },
    {
      "cell_type": "markdown",
      "source": [
        "Create hypothesis function/loss function/cost function for binary classification, and train your module by python program based on gradient descent algorithm from the following breast cancer dataset. After that, predict which class of last two records (highlighted in red color) is \n",
        "[**dataset csv file**](https://drive.google.com/file/d/1-4wa4EVM6dU9PESOvUyblnX06QZyNz7K/view?usp=sharing)"
      ],
      "metadata": {
        "id": "It_eyUgUy8N8"
      }
    },
    {
      "cell_type": "code",
      "source": [
        "import pandas as pd\n",
        "import numpy as np\n",
        "from sklearn.linear_model import LogisticRegression\n",
        "\n",
        "\n",
        "from google.colab import drive\n",
        "drive.mount('/content/drive') \n",
        "data_path = \"/content/drive/My Drive/Colab Notebooks/\"\n",
        "# Get data from Datasets\n",
        "\n",
        "# Create feature list\n",
        "column_names = ['Clump Thickness','Uniformity of Cell Size',\n",
        "                'Uniformity of Cell Shape','Marginal Adhesion','Single Epithelial Cell Size',\n",
        "                'Bare Nuclei','Bland Chromatin','Normal Nucleoli','Mitoses','Class']\n",
        "\n",
        "# Read specified data from Internet\n",
        "data = pd.read_csv(data_path+'sec.csv',names=column_names)\n",
        "data.columns = (column_names)\n",
        "\n",
        "#print(data)\n",
        "#print(data.shape)\n",
        "X_train=data.iloc[1:33,0:9]\n",
        "#print(X_train)\n",
        "X_test=data.iloc[33:35,0:9]\n",
        "#print(X_test.shape)\n",
        "#print(X_test)\n",
        "Y_train=data.iloc[1:33,9]\n",
        "Y_test=data.iloc[33:35,9]\n",
        "#print(Y_test)\n",
        "lr = LogisticRegression()\n",
        "\n",
        "lr.fit(X_train,Y_train)\n",
        "#print(X_train)\n",
        "lr_y_predict = lr.predict(X_test)\n",
        "print(\"The predicted value are =\",lr_y_predict)\n"
      ],
      "metadata": {
        "colab": {
          "base_uri": "https://localhost:8080/"
        },
        "id": "mBGrhctDx-RS",
        "outputId": "df3b1ef8-2de1-4b11-917a-90a5b405d04d"
      },
      "execution_count": null,
      "outputs": [
        {
          "output_type": "stream",
          "name": "stdout",
          "text": [
            "Drive already mounted at /content/drive; to attempt to forcibly remount, call drive.mount(\"/content/drive\", force_remount=True).\n",
            "The predicted value are = ['4' '4']\n"
          ]
        }
      ]
    },
    {
      "cell_type": "markdown",
      "source": [
        "Given the following dataset, design python function as binary classifier for the following two classes. \n",
        "\t\t- Plot all points in two different classes first in Excel or python matplotlib functions\n",
        "\t- Observe what boundary decision function is good to separate two classes\n",
        "- Build up hypothesis function/loss function/cost function based on your selected   decision function\n",
        "- Write python program to train your model\n",
        "- After model training, plot decision boundary function in Excel or python matplotlib functions\n",
        "\n",
        "[**dataset for Q3**](https://drive.google.com/file/d/15fRflbUAPEJQ6CATHyVflGt68Sf_AoSP/view?usp=sharing)"
      ],
      "metadata": {
        "id": "J23n46aTzYIs"
      }
    },
    {
      "cell_type": "code",
      "source": [
        "import pandas as pd\n",
        "import numpy as np\n",
        "from pandas import read_csv\n",
        "from sklearn.linear_model import LogisticRegression\n",
        "from google.colab import drive\n",
        "drive.mount('/content/drive')         \n",
        "# mount '/content/drive' to virtual machine directory for google colab user\n",
        "#below where the file is in gdrive, change with your\n",
        "data_path = \"/content/drive/My Drive/Colab Notebooks/\"\n",
        "data = pd.read_csv(data_path+'tre.csv')\n",
        "X = data[['X1','X2']].values\n",
        "#print(X)\n",
        "Y = data['Y']\n",
        "log_reg = LogisticRegression()\n",
        "log_reg.fit(X, Y)\n",
        "parameters = log_reg.coef_[0]\n",
        "parameter0 = log_reg.intercept_\n",
        "# Plotting the decision boundary\n",
        "fig = plt.figure()\n",
        "x_values = [np.min(X[:, 1] -5 ), np.max(X[:, 1] +5 )]\n",
        "# calcul y values\n",
        "y_values = np.dot((-1./parameters[1]), (np.dot(parameters[0],x_values) + parameter0))\n",
        "colors=['red' if l==0 else 'blue' for l in Y]\n",
        "plt.scatter(X[:, 0], X[:, 1], label='Logistics regression', color=colors)\n",
        "plt.plot(x_values, y_values, label='Decision Boundary')\n",
        "plt.show()"
      ],
      "metadata": {
        "colab": {
          "base_uri": "https://localhost:8080/",
          "height": 282
        },
        "id": "L3JxxG9x0n-l",
        "outputId": "eb7325df-0214-49c0-d9eb-12181e4d1610"
      },
      "execution_count": 165,
      "outputs": [
        {
          "output_type": "stream",
          "name": "stdout",
          "text": [
            "Drive already mounted at /content/drive; to attempt to forcibly remount, call drive.mount(\"/content/drive\", force_remount=True).\n"
          ]
        },
        {
          "output_type": "display_data",
          "data": {
            "text/plain": [
              "<Figure size 432x288 with 1 Axes>"
            ],
            "image/png": "[encoded data removed]"
          },
          "metadata": {
            "needs_background": "light"
          }
        }
      ]
    },
    {
      "cell_type": "markdown",
      "source": [
        "Train your hypothesis functions for multiclass classification from the following given dataset by python program. And then predict what Y’s value is in the last 4 samples (highlighted in red color). Verify your classifier model by plotting all points and decision lines  \n",
        "[**Dataset for Q4**](https://drive.google.com/file/d/1nI8N2OImc5can12uHaE4WH6CMQrZhwA5/view?usp=sharing)"
      ],
      "metadata": {
        "id": "RfcKZTGRz-Uf"
      }
    },
    {
      "cell_type": "code",
      "source": [
        "import pandas as pd\n",
        "import numpy as np\n",
        "from pandas import read_csv\n",
        "from sklearn.linear_model import LogisticRegression\n",
        "from google.colab import drive\n",
        "drive.mount('/content/drive')         \n",
        "# mount '/content/drive' to virtual machine directory for google colab user\n",
        "#below where the file is in gdrive, change with your\n",
        "data_path = \"/content/drive/My Drive/Colab Notebooks/\"\n",
        "# Read specified data from Internet\n",
        "data = pd.read_csv(data_path+'four.csv')\n",
        "#print(data)\n",
        "model = LogisticRegression(multi_class='multinomial', solver='lbfgs')\n",
        "#print(X.shape)\n",
        "X_train=data.iloc[0:19,0:2]\n",
        "#print(X_train)\n",
        "X_test=data.iloc[20:24,0:2]\n",
        "#print(X_test)\n",
        "Y_train=data.iloc[0:19,2]\n",
        "Y_test=data.iloc[20:24,2]\n",
        "#print(Y_test)\n",
        "lr = LogisticRegression()\n",
        "lr.fit(X_train,Y_train)\n",
        "#print(X_train)\n",
        "lr_y_predict = lr.predict(X_test)\n",
        "print(\"The predicted value are =\",lr_y_predict)"
      ],
      "metadata": {
        "colab": {
          "base_uri": "https://localhost:8080/"
        },
        "id": "SglNS2cGXiMy",
        "outputId": "904181be-c4ef-4638-eaac-628f1c68f6b2"
      },
      "execution_count": 163,
      "outputs": [
        {
          "output_type": "stream",
          "name": "stdout",
          "text": [
            "Drive already mounted at /content/drive; to attempt to forcibly remount, call drive.mount(\"/content/drive\", force_remount=True).\n",
            "The predicted value are = ['0' '1' '2' '1']\n"
          ]
        }
      ]
    }
  ]
}