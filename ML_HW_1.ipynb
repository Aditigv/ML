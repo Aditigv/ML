{
  "nbformat": 4,
  "nbformat_minor": 0,
  "metadata": {
    "colab": {
      "name": "ML HW_1.ipynb",
      "provenance": [],
      "authorship_tag": "ABX9TyMKbb6DNNJAdzRC/0WuIOQ6",
      "include_colab_link": true
    },
    "kernelspec": {
      "name": "python3",
      "display_name": "Python 3"
    },
    "language_info": {
      "name": "python"
    }
  },
  "cells": [
    {
      "cell_type": "markdown",
      "metadata": {
        "id": "view-in-github",
        "colab_type": "text"
      },
      "source": [
        "<a href=\"https://colab.research.google.com/github/Aditigv/ML/blob/main/ML_HW_1.ipynb\" target=\"_parent\"><img src=\"https://colab.research.google.com/assets/colab-badge.svg\" alt=\"Open In Colab\"/></a>"
      ]
    },
    {
      "cell_type": "code",
      "execution_count": 8,
      "metadata": {
        "colab": {
          "base_uri": "https://localhost:8080/"
        },
        "id": "bA_VAKKA5lgN",
        "outputId": "5c1e8842-36f0-4709-c4f7-7f1a5dbd83b9"
      },
      "outputs": [
        {
          "output_type": "stream",
          "name": "stdout",
          "text": [
            "predicted values= [129.01956696 142.76293569]\n"
          ]
        }
      ],
      "source": [
        "id = [i for i in range(1,17)]\n",
        "age = [60, 61, 74, 57, 63, 68, 66, 77, 63, 54, 63, 76, 60, 61, 65, 79]\n",
        "weight = [58, 90, 96, 72, 62, 79, 69, 96, 96, 54, 67, 99, 74, 73, 85, 80]\n",
        "SBP= [117, 120, 145, 129, 132, 130, 110, 163, 136, 115, 118, 132, 111, 112, 0, 0]\n",
        "\n",
        "from sklearn.linear_model import LinearRegression #lINEAR REGRESSION IMPORT FILE\n",
        "import pandas as pd                               # PYTHON data analysis \n",
        "data = {\"age\":age, \"Weight\":weight, \"SBP\":SBP}\n",
        "data = pd.DataFrame(data = data)\n",
        "x = data[[\"age\", \"Weight\"]]\n",
        "y = data[\"SBP\"]\n",
        "x_train = x[:14]\n",
        "x_test = x[14:]\n",
        "y_train = y[:14]\n",
        "y_test = y[14:]\n",
        "model = LinearRegression()\n",
        "model.fit(x_train, y_train)\n",
        "predict = model.predict(x_test)\n",
        "\n",
        "print(\"predicted values=\"\"\",predict)"
      ]
    },
    {
      "cell_type": "code",
      "source": [
        "import numpy as np\n",
        "data = np.array([[0,4],[1,5],[2,16],[3,21],[4,36],[5,45],[6,64],[7,77],[8,100],[9,117],[10,144]])\n",
        "x, Y = data[:,:1], data[:, 1]\n",
        "from sklearn.preprocessing import PolynomialFeatures\n",
        "# generate a matrix with all poly combinations that fit the data \n",
        "PolyReg = PolynomialFeatures(degree=2)   \n",
        "X_poly = PolyReg.fit_transform(x) \n",
        "from sklearn.linear_model import LinearRegression\n",
        "pol_reg = LinearRegression()\n",
        "pol_reg.fit(X_poly,Y)\n",
        "\n",
        "import matplotlib.pyplot as plt \n",
        "plt.scatter(x, Y, color='red')\n",
        "print(\"Curve based on given dataset for second degree function=\")\n",
        "print(plt.plot(x, pol_reg.predict(PolyReg.fit_transform(x)), color='blue') )"
      ],
      "metadata": {
        "colab": {
          "base_uri": "https://localhost:8080/",
          "height": 300
        },
        "id": "BvsO6b7a5pDg",
        "outputId": "c6d6913f-c7ac-47bf-adef-f86dc8a0689d"
      },
      "execution_count": 7,
      "outputs": [
        {
          "output_type": "stream",
          "name": "stdout",
          "text": [
            "Curve based on given dataset for second degree function=\n",
            "[<matplotlib.lines.Line2D object at 0x7f36ae7229d0>]\n"
          ]
        },
        {
          "output_type": "display_data",
          "data": {
            "text/plain": [
              "<Figure size 432x288 with 1 Axes>"
            ],
            "image/png": "[encoded data removed]"
          },
          "metadata": {
            "needs_background": "light"
          }
        }
      ]
    },
    {
      "cell_type": "code",
      "source": [
        "import numpy as np\n",
        "data = np.array([[0,4],[1,5],[2,16],[3,21],[4,36],[5,45],[6,64],[7,77],[8,100],[9,117],[10,144]])\n",
        "x_, y_= data[:,:1], data[:, 1]\n",
        "# matrix x\n",
        "M = 11   #length of data set\n",
        "x_bias = np.ones((M,1))\n",
        "x = np.reshape(x_, (M,1))\n",
        "x = np.append(x_bias,x,axis=1)\n",
        "#(xTx)^(-1)\n",
        "x_transpose = np.transpose(x)   #calculating transpose\n",
        "product = x_transpose.dot(x)    #multiplying normal and transposed matrix\n",
        "temp1 = np.linalg.inv(product)  #calculating inverse of product\n",
        "#xT * y\n",
        "temp2 = x_transpose.dot(y_)\n",
        "#theta = (xTx)^(-1) * xT * y\n",
        "theta = temp1.dot(temp2)\n",
        "print(\"theta0 = \"\"\", theta[0])\n",
        "print(\"theta1 =\"\" \", theta[1])\n",
        "# y = t0 + t1x\n",
        "print(\"Now comparing with plot.........\")\n",
        "\n",
        "import matplotlib.pyplot as plt \n",
        "plt.scatter(x_,y_)\n",
        "plt.plot(x, theta[0] + theta[1]*x)"
      ],
      "metadata": {
        "colab": {
          "base_uri": "https://localhost:8080/",
          "height": 352
        },
        "id": "WTn_8MjgozWk",
        "outputId": "7c8a9e21-dc2c-4a65-f332-f91eaa776326"
      },
      "execution_count": 5,
      "outputs": [
        {
          "output_type": "stream",
          "name": "stdout",
          "text": [
            "theta0 =  -12.818181818181841\n",
            "theta1 =  13.999999999999996\n",
            "Now comparing with plot.........\n"
          ]
        },
        {
          "output_type": "execute_result",
          "data": {
            "text/plain": [
              "[<matplotlib.lines.Line2D at 0x7f36bd68b350>,\n",
              " <matplotlib.lines.Line2D at 0x7f36bd68b550>]"
            ]
          },
          "metadata": {},
          "execution_count": 5
        },
        {
          "output_type": "display_data",
          "data": {
            "text/plain": [
              "<Figure size 432x288 with 1 Axes>"
            ],
            "image/png": "[encoded data removed]"
          },
          "metadata": {
            "needs_background": "light"
          }
        }
      ]
    }
  ]
}